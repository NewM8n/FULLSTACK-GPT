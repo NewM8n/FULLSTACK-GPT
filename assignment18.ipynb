{
 "cells": [
  {
   "cell_type": "code",
   "execution_count": 4,
   "metadata": {},
   "outputs": [
    {
     "name": "stdout",
     "output_type": "stream",
     "text": [
      "\n",
      "\n",
      "\u001b[1m> Entering new AgentExecutor chain...\u001b[0m\n",
      "\u001b[32;1m\u001b[1;3m\n",
      "Invoking: `SearchToolWithWiKi` with `{'query': 'Research about the XZ backdoor'}`\n",
      "\n",
      "\n",
      "\u001b[0m\u001b[33;1m\u001b[1;3mPage: XZ Utils backdoor\n",
      "Summary: On 29 March 2024, software developer Andres Freund reported that he had found a maliciously introduced backdoor in the Linux utility xz within the liblzma library in versions 5.6.0 and 5.6.1 released in February 2024.While xz is commonly present in most Linux distributions, the backdoor only targeted Debian- and RPM-based systems running on the x86-64 architecture. At the time of discovery the backdoored version had not yet been widely deployed to production systems, but was present in development versions of major distributions.The backdoor gives an attacker who possesses a specific Ed448 private key remote code execution capabilities on the affected Linux system. The issue has been assigned a CVSS score of 10.0, the highest possible score.\n",
      "\n",
      "Page: Supply chain attack\n",
      "Summary: A supply chain attack is a cyber-attack that seeks to damage an organization by targeting less secure elements in the supply chain. A supply chain attack can occur in any industry, from the financial sector, oil industry, to a government sector. A supply chain attack can happen in software or hardware. Cybercriminals typically tamper with the manufacturing or distribution of a product by installing malware or hardware-based spying components. Symantec's 2019 Internet Security Threat Report states that supply chain attacks increased by 78 percent in 2018. A supply chain is a system of activities involved in handling, distributing, manufacturing, and processing goods in order to move resources from a vendor into the hands of the final consumer. A supply chain is a complex network of interconnected players governed by supply and demand.Although supply chain attack is a broad term without a universally agreed upon definition, in reference to cyber-security, a supply chain attack involves physically tampering with electronics (computers, ATMs, power systems, factory data networks) in order to install undetectable malware for the purpose of bringing harm to a player further down the supply chain network.In a more general sense, a supply chain attack may not necessarily involve electronics. In 2010 when burglars gained access to the pharmaceutical giant Eli Lilly's supply warehouse, by drilling a hole in the roof and loading $80 million worth of prescription drugs into a truck, they could also have been said to carry out a supply chain attack. However, this article will discuss cyber attacks on physical supply networks that rely on technology; hence, a supply chain attack is a method used by cyber-criminals.\n",
      "\n",
      "Page: Timeline of computer viruses and worms\n",
      "Summary: This timeline of computer viruses and worms presents a chronological timeline of noteworthy computer viruses, computer worms, Trojan horses, similar malware, related research and events.\u001b[0m\u001b[32;1m\u001b[1;3m\n",
      "Invoking: `SearchToolWithDuck` with `{'query': 'Research about the XZ backdoor'}`\n",
      "\n",
      "\n",
      "\u001b[0m\u001b[36;1m\u001b[1;3mGetty Images. 207. On Friday, a lone Microsoft developer rocked the world when he revealed a backdoor had been intentionally planted in xz Utils, an open source data compression utility available ... That operation matches the style of the XZ Utils backdoor far more than the cruder supply chain attacks of APT41 or Lazarus, by comparison. \"It could very well be someone else,\" says Aitel. 2024-02-24: Jia Tan tags and builds v5.6.0 and publishes an xz-5.6..tar.gz distribution with an extra, malicious build-to-host.m4 that adds the backdoor when building a deb/rpm package. This m4 file is not present in the source repository, but many other legitimate ones are added during package as well, so it's not suspicious by itself. On March 28, 2024, a backdoor was identified in the popular xz-utils package and reported to the oss-security@openwall mailing list one day later, on March 29. It was assigned CVE-2024-3094 and affects versions 5.6.0 and 5.6.1. When infecting a system, the backdoor would change the behavior of the sshd binary and allow an attacker with ... Executive summary. CVE-2024-3094 is a vulnerability discovered in the open-source library XZ Utils that stems from malicious code that was pushed into the library by one of its maintainers. It was originally reported as an SSH authentication bypass backdoor, but further analysis indicates that the backdoor actually enables remote code execution ...\u001b[0m\u001b[32;1m\u001b[1;3mI found information about the XZ backdoor. Here are some key points:\n",
      "\n",
      "- The XZ backdoor was discovered by software developer Andres Freund in the Linux utility xz within the liblzma library in versions 5.6.0 and 5.6.1 released in February 2024.\n",
      "- The backdoor targeted Debian- and RPM-based systems running on the x86-64 architecture.\n",
      "- The backdoor gives an attacker remote code execution capabilities on the affected Linux system.\n",
      "- The issue has been assigned a CVSS score of 10.0, the highest possible score.\n",
      "\n",
      "If you need more details or have any specific questions, feel free to ask!\u001b[0m\n",
      "\n",
      "\u001b[1m> Finished chain.\u001b[0m\n"
     ]
    },
    {
     "name": "stderr",
     "output_type": "stream",
     "text": [
      "c:\\Users\\user\\Documents\\GitHub\\FULLSTACK-GPT\\env\\Lib\\site-packages\\curl_cffi\\aio.py:205: UserWarning: Curlm alread closed! quitting from process_data\n",
      "  warnings.warn(\"Curlm alread closed! quitting from process_data\")\n"
     ]
    }
   ],
   "source": [
    "from typing import Any, Type\n",
    "from langchain.chat_models import ChatOpenAI\n",
    "from langchain.tools import BaseTool\n",
    "from pydantic import BaseModel, Field\n",
    "from langchain.agents import initialize_agent, AgentType\n",
    "from langchain.utilities import DuckDuckGoSearchAPIWrapper, WikipediaAPIWrapper\n",
    "\n",
    "llm = ChatOpenAI(temperature=0.1,model_name=\"gpt-3.5-turbo-0125\")\n",
    "\n",
    "class SearchToolArgsSchema(BaseModel):\n",
    "    query: str = Field(\n",
    "        description=\"\"\"\n",
    "        이 쿼리에 맞게 검색합니다.\n",
    "        ex) Research about the XZ backdoor\n",
    "        \"\"\"\n",
    "    )\n",
    "\n",
    "class SearchToolWithDuck(BaseTool):\n",
    "    name = \"SearchToolWithDuck\"\n",
    "    description = \"DuckDuckGo로 검색합니다\"\n",
    "    args_schema: Type[SearchToolArgsSchema] = SearchToolArgsSchema\n",
    "\n",
    "    def _run(self, query):\n",
    "        ddg = DuckDuckGoSearchAPIWrapper()\n",
    "        return ddg.run(query)\n",
    "\n",
    "class SearchToolWithWiKi(BaseTool):\n",
    "    name = \"SearchToolWithWiKi\"\n",
    "    description = \"Wikipedia로 검색합니다\"\n",
    "    args_schema: Type[SearchToolArgsSchema] = SearchToolArgsSchema\n",
    "\n",
    "    def _run(self, query):\n",
    "        wiki = WikipediaAPIWrapper()\n",
    "        return wiki.run(query)\n",
    "    \n",
    "agent = initialize_agent(\n",
    "    llm=llm,\n",
    "    verbose=True,\n",
    "    agent=AgentType.OPENAI_FUNCTIONS,\n",
    "    handle_parsing_errors=True,\n",
    "    tools=[SearchToolWithDuck(),\n",
    "           SearchToolWithWiKi()\n",
    "           ],\n",
    ")\n",
    "prompt_base = \"If wiki doesn't have any information, give it to me at DuckDuckGo.\"\n",
    "\n",
    "prompt = \"Research about the XZ backdoor\"\n",
    "\n",
    "output = agent.invoke(prompt_base+prompt)\n",
    "\n",
    "with open(\"output.txt\", \"w\", encoding=\"utf-8\") as file:\n",
    "    file.write(str(output))"
   ]
  }
 ],
 "metadata": {
  "kernelspec": {
   "display_name": "env",
   "language": "python",
   "name": "python3"
  },
  "language_info": {
   "codemirror_mode": {
    "name": "ipython",
    "version": 3
   },
   "file_extension": ".py",
   "mimetype": "text/x-python",
   "name": "python",
   "nbconvert_exporter": "python",
   "pygments_lexer": "ipython3",
   "version": "3.11.6"
  }
 },
 "nbformat": 4,
 "nbformat_minor": 2
}
