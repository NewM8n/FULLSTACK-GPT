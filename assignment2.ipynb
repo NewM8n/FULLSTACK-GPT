{
 "cells": [
  {
   "cell_type": "code",
   "execution_count": 3,
   "metadata": {},
   "outputs": [
    {
     "name": "stdout",
     "output_type": "stream",
     "text": [
      "Director: Mike Newell\n",
      "Main cast: Daniel Radcliffe, Emma Watson, Rupert Grint\n",
      "Budget: $150 million\n",
      "Box office revenue: $896 million\n",
      "Genre: Fantasy, Adventure\n",
      "Synopsis: Harry Potter is mysteriously entered into the Triwizard Tournament, a dangerous magical competition, where he must face various challenges and ultimately confront the dark wizard Lord Voldemort."
     ]
    },
    {
     "data": {
      "text/plain": [
       "AIMessageChunk(content='Director: Mike Newell\\nMain cast: Daniel Radcliffe, Emma Watson, Rupert Grint\\nBudget: $150 million\\nBox office revenue: $896 million\\nGenre: Fantasy, Adventure\\nSynopsis: Harry Potter is mysteriously entered into the Triwizard Tournament, a dangerous magical competition, where he must face various challenges and ultimately confront the dark wizard Lord Voldemort.')"
      ]
     },
     "execution_count": 3,
     "metadata": {},
     "output_type": "execute_result"
    }
   ],
   "source": [
    "from langchain.chat_models import ChatOpenAI\n",
    "from langchain.prompts.few_shot import FewShotChatMessagePromptTemplate\n",
    "from langchain.callbacks import StreamingStdOutCallbackHandler\n",
    "from langchain.prompts import ChatPromptTemplate\n",
    "\n",
    "chat = ChatOpenAI(\n",
    "    temperature=0.1,\n",
    "    streaming=True,\n",
    "    callbacks=[\n",
    "        StreamingStdOutCallbackHandler(),\n",
    "    ]\n",
    ")\n",
    "#Director, main cast, budget, box office revenue, genre of film, synopsis\n",
    "examples = [\n",
    "    {\n",
    "        \"movie\" : \"Charlie And The Chocolate Factory\",\n",
    "        \"answer\":\"\"\"\n",
    "        Here is what I know : \n",
    "        Director : Jang Jae Hyun\n",
    "        main cast : Choi Min Sik\n",
    "        budget : 10000$\n",
    "        box office revenue : 2\n",
    "        genre of film : Thriller\n",
    "        synopsis : A wealthy Korean American Los Angeles family plagued by a generational curse enlists the help of a young, renowned Korean shaman and her protégé, Hwa-rim (Kim Go-eun) and Bong-gil (Lee Do-hyun), to protect their baby. Hwa-rim detects the presence of a vengeful ancestor's spirit haunting the family, known as a 'Grave's Call'. With the assistance of Korea's most acclaimed feng shui master Kim Sang-deok (Choi Min-sik) and undertaker Yeong-geun (Yoo Hae-jin), they set out to unearth and relocate the grave to appease the ancestor. They are shocked to find the grave in an ominous location. Sang-deok senses a sinister energy and wants to reject the job, but with Hwa-rim's persuasion, the excavation begins. In the process, however, evil forces are released which threaten the family's lives.\n",
    "        \"\"\",\n",
    "    },\n",
    "    {\n",
    "        \"movie\":\"Harry Potter and the Goblet of Fire\",\n",
    "        \"answer\":\"\"\"\n",
    "        Here is what I know : \n",
    "        Director : Mike Newell, Michael Cormac Newel\n",
    "        main cast : Daniel Jacob Radcliffe\n",
    "        budget : 1000000$\n",
    "        box office revenue : 1\n",
    "        genre of film : SF\n",
    "        synopsis: Harry Potter and the Goblet of Fire is the fourth chapter in the Harry Potter series, where Harry and his friends find themselves participating in the 'Triwizard Tournament', a special magical competition held at Hogwarts School of Witchcraft and Wizardry. However, the tournament turns out to be more dangerous than anticipated, and Harry is drawn into it along with the sinister plans of the dark wizard Voldemort. Filled with magic and adventure, the story follows Harry and his friends as they face the dangers ahead and come to realize their own destinies.\n",
    "        \"\"\",\n",
    "    },\n",
    "    {\n",
    "        \"movie\":\"How to Train Your Dragon\",\n",
    "        \"answer\":\"\"\"\n",
    "        Here is what I know : \n",
    "        Director : Dean Deblois\n",
    "        main cast : Jay Baruche\n",
    "        budget : 20000$\n",
    "        box office revenue : 3\n",
    "        genre of film : Animation\n",
    "        synopsis : 'How to Train Your Dragon' is an animated film produced by DreamWorks Animation, acclaimed by critics. The movie follows the story of a boy named Hiccup, who seeks to prove himself as a trainer. Throughout his journey, he forms unexpected friendships and discovers his courage and abilities while striving to defeat dragons attacking his village.\n",
    "        \"\"\",\n",
    "    },\n",
    "]\n",
    "\n",
    "example_prompt = ChatPromptTemplate.from_messages([\n",
    "    (\"human\" , \"What do you know about {movie}?\"),\n",
    "    (\"ai\" , \"{answer}\"),\n",
    "])\n",
    "\n",
    "example_prompt = FewShotChatMessagePromptTemplate(\n",
    "    example_prompt=example_prompt,\n",
    "    examples=examples,\n",
    ")\n",
    "\n",
    "final_prompt = ChatPromptTemplate.from_messages([\n",
    "    (\"system\", \"You are a movie expert, you give short answers.\"),\n",
    "    example_prompt,\n",
    "    (\"human\", \"What do you know about {movie}?\"),\n",
    "])\n",
    "\n",
    "chain = final_prompt | chat\n",
    "\n",
    "chain.invoke({\"movie\": \"Harry Potter and the Goblet of Fire\"})"
   ]
  }
 ],
 "metadata": {
  "kernelspec": {
   "display_name": "env",
   "language": "python",
   "name": "python3"
  },
  "language_info": {
   "codemirror_mode": {
    "name": "ipython",
    "version": 3
   },
   "file_extension": ".py",
   "mimetype": "text/x-python",
   "name": "python",
   "nbconvert_exporter": "python",
   "pygments_lexer": "ipython3",
   "version": "3.11.6"
  }
 },
 "nbformat": 4,
 "nbformat_minor": 2
}
