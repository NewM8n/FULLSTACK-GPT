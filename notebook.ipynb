{
 "cells": [
  {
   "cell_type": "code",
   "execution_count": 1,
   "metadata": {},
   "outputs": [
    {
     "ename": "ImportError",
     "evalue": "cannot import name 'FewShotChatMesssagePromptTemplate' from 'langchain.prompts.few_shot' (c:\\Users\\user\\Documents\\GitHub\\FULLSTACK-GPT\\env\\Lib\\site-packages\\langchain\\prompts\\few_shot.py)",
     "output_type": "error",
     "traceback": [
      "\u001b[1;31m---------------------------------------------------------------------------\u001b[0m",
      "\u001b[1;31mImportError\u001b[0m                               Traceback (most recent call last)",
      "Cell \u001b[1;32mIn[1], line 4\u001b[0m\n\u001b[0;32m      2\u001b[0m \u001b[38;5;28;01mfrom\u001b[39;00m \u001b[38;5;21;01mlangchain\u001b[39;00m\u001b[38;5;21;01m.\u001b[39;00m\u001b[38;5;21;01mprompts\u001b[39;00m \u001b[38;5;28;01mimport\u001b[39;00m PromptTemplate, ChatPromptTemplate\n\u001b[0;32m      3\u001b[0m \u001b[38;5;28;01mfrom\u001b[39;00m \u001b[38;5;21;01mlangchain\u001b[39;00m\u001b[38;5;21;01m.\u001b[39;00m\u001b[38;5;21;01mcallbacks\u001b[39;00m \u001b[38;5;28;01mimport\u001b[39;00m StreamingStdOutCallbackHandler\n\u001b[1;32m----> 4\u001b[0m \u001b[38;5;28;01mfrom\u001b[39;00m \u001b[38;5;21;01mlangchain\u001b[39;00m\u001b[38;5;21;01m.\u001b[39;00m\u001b[38;5;21;01mprompts\u001b[39;00m\u001b[38;5;21;01m.\u001b[39;00m\u001b[38;5;21;01mfew_shot\u001b[39;00m \u001b[38;5;28;01mimport\u001b[39;00m FewShotChatMesssagePromptTemplate\n\u001b[0;32m      6\u001b[0m chat\u001b[38;5;241m=\u001b[39m ChatOpenAI(model_name\u001b[38;5;241m=\u001b[39m\u001b[38;5;124m\"\u001b[39m\u001b[38;5;124mgpt-3.5-turbo\u001b[39m\u001b[38;5;124m\"\u001b[39m, temperature\u001b[38;5;241m=\u001b[39m\u001b[38;5;241m0.1\u001b[39m, streaming\u001b[38;5;241m=\u001b[39m\u001b[38;5;28;01mTrue\u001b[39;00m,callbacks\u001b[38;5;241m=\u001b[39m[StreamingStdOutCallbackHandler()])\n\u001b[0;32m      8\u001b[0m poem_prompt \u001b[38;5;241m=\u001b[39m ChatPromptTemplate\u001b[38;5;241m.\u001b[39mfrom_messages([\n\u001b[0;32m      9\u001b[0m     (\u001b[38;5;124m\"\u001b[39m\u001b[38;5;124msystem\u001b[39m\u001b[38;5;124m\"\u001b[39m, \u001b[38;5;124m\"\u001b[39m\u001b[38;5;124mYou are a good poem writer. You create poem about programing language.\u001b[39m\u001b[38;5;124m\"\u001b[39m),\n\u001b[0;32m     10\u001b[0m     (\u001b[38;5;124m\"\u001b[39m\u001b[38;5;124mhuman\u001b[39m\u001b[38;5;124m\"\u001b[39m,\u001b[38;5;124m\"\u001b[39m\u001b[38;5;124mI want to make poem about \u001b[39m\u001b[38;5;132;01m{language}\u001b[39;00m\u001b[38;5;124m.\u001b[39m\u001b[38;5;124m\"\u001b[39m),\n\u001b[0;32m     11\u001b[0m ])\n",
      "\u001b[1;31mImportError\u001b[0m: cannot import name 'FewShotChatMesssagePromptTemplate' from 'langchain.prompts.few_shot' (c:\\Users\\user\\Documents\\GitHub\\FULLSTACK-GPT\\env\\Lib\\site-packages\\langchain\\prompts\\few_shot.py)"
     ]
    }
   ],
   "source": [
    "from langchain.chat_models import ChatOpenAI\n",
    "from langchain.prompts import PromptTemplate, ChatPromptTemplate\n",
    "from langchain.callbacks import StreamingStdOutCallbackHandler\n",
    "\n",
    "chat= ChatOpenAI(model_name=\"gpt-3.5-turbo\", temperature=0.1, streaming=True,callbacks=[StreamingStdOutCallbackHandler()])\n",
    "\n",
    "poem_prompt = ChatPromptTemplate.from_messages([\n",
    "    (\"system\", \"You are a good poem writer. You create poem about programing language.\"),\n",
    "    (\"human\",\"I want to make poem about {language}.\"),\n",
    "])\n",
    "\n",
    "poem_chain = poem_prompt | chat\n",
    "\n"
   ]
  },
  {
   "cell_type": "code",
   "execution_count": 16,
   "metadata": {},
   "outputs": [
    {
     "name": "stdout",
     "output_type": "stream",
     "text": [
      "In the land of code, where languages roam,\n",
      "There's one that stands out, like a gemstone.\n",
      "Python, the serpent of simplicity,\n",
      "With syntax so clean, it's a sight to see.\n",
      "\n",
      "Indented blocks, like a dance so neat,\n",
      "Flowing like poetry, so sweet.\n",
      "From data structures to functions grand,\n",
      "Python weaves magic with a gentle hand.\n",
      "\n",
      "With libraries vast, like a treasure trove,\n",
      "Python empowers, with a love so stove.\n",
      "AI, web dev, or data science quest,\n",
      "Python shines brightest, above the rest.\n",
      "\n",
      "So let us raise a toast, to this language divine,\n",
      "Python, the one that makes our code shine.\n",
      "In the world of programming, a true delight,\n",
      "Python, forever burning bright.This poem is an ode to the programming language Python, celebrating its simplicity, elegance, and versatility. The poet describes Python as a standout gemstone in the land of code, emphasizing its clean syntax and ease of use. The poem highlights Python's unique features, such as indented blocks that flow like poetry and its ability to handle data structures and functions with grace.\n",
      "\n",
      "The poet also praises Python's extensive libraries, which are likened to a treasure trove that empowers users in various fields such as AI, web development, and data science. Python is portrayed as a language that shines above the rest, making it a favorite choice for programmers.\n",
      "\n",
      "The poem concludes with a toast to Python as a divine language that brings brightness and delight to the world of programming. Overall, the poem celebrates Python's beauty, power, and enduring appeal in the realm of coding."
     ]
    },
    {
     "data": {
      "text/plain": [
       "AIMessageChunk(content=\"This poem is an ode to the programming language Python, celebrating its simplicity, elegance, and versatility. The poet describes Python as a standout gemstone in the land of code, emphasizing its clean syntax and ease of use. The poem highlights Python's unique features, such as indented blocks that flow like poetry and its ability to handle data structures and functions with grace.\\n\\nThe poet also praises Python's extensive libraries, which are likened to a treasure trove that empowers users in various fields such as AI, web development, and data science. Python is portrayed as a language that shines above the rest, making it a favorite choice for programmers.\\n\\nThe poem concludes with a toast to Python as a divine language that brings brightness and delight to the world of programming. Overall, the poem celebrates Python's beauty, power, and enduring appeal in the realm of coding.\")"
      ]
     },
     "execution_count": 16,
     "metadata": {},
     "output_type": "execute_result"
    }
   ],
   "source": [
    "interpret_prompt = ChatPromptTemplate.from_messages([\n",
    "    (\"system\", \"You are good at interpret a poem.\"),\n",
    "    (\"human\",\"Interpret {poem}\"),\n",
    "])\n",
    "\n",
    "interpret_chain = interpret_prompt | chat\n",
    "\n",
    "final_chain = {\"poem\" : poem_chain} | interpret_chain\n",
    "\n",
    "final_chain.invoke({\n",
    "    \"language\" : \"python\"\n",
    "\n",
    "})\n",
    "\n"
   ]
  }
 ],
 "metadata": {
  "kernelspec": {
   "display_name": "env",
   "language": "python",
   "name": "python3"
  },
  "language_info": {
   "codemirror_mode": {
    "name": "ipython",
    "version": 3
   },
   "file_extension": ".py",
   "mimetype": "text/x-python",
   "name": "python",
   "nbconvert_exporter": "python",
   "pygments_lexer": "ipython3",
   "version": "3.11.6"
  }
 },
 "nbformat": 4,
 "nbformat_minor": 2
}
