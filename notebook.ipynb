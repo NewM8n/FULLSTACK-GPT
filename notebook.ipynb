{
 "cells": [
  {
   "cell_type": "code",
   "execution_count": 12,
   "metadata": {},
   "outputs": [],
   "source": [
    "from langchain.chat_models import ChatOpenAI\n",
    "from langchain.prompts import PromptTemplate, ChatPromptTemplate\n",
    "\n",
    "chat= ChatOpenAI(model_name=\"gpt-3.5-turbo\", temperature=0.1)\n"
   ]
  },
  {
   "cell_type": "code",
   "execution_count": 13,
   "metadata": {},
   "outputs": [],
   "source": [
    "from langchain.schema import BaseOutputParser\n",
    "\n",
    "class CommaOutputParser(BaseOutputParser):\n",
    "    def parse(self, text):\n",
    "        items = text.strip().split(\",\")\n",
    "        return list(map(str.strip, items))\n",
    "    \n"
   ]
  },
  {
   "cell_type": "code",
   "execution_count": null,
   "metadata": {},
   "outputs": [],
   "source": [
    "make_poem_prompt = ChatPromptTemplate.from_messages([\n",
    "    (\"system\", \"You are a poem writer. And you only reply in {language}.\"),\n",
    "    (\"human\",\"{question}\")\n",
    "])\n",
    "\n"
   ]
  },
  {
   "cell_type": "code",
   "execution_count": null,
   "metadata": {},
   "outputs": [],
   "source": [
    "chain = prompt | chat | CommaOutputParser()\n",
    "\n",
    "chain.invoke({\n",
    "    \"max_itmes\":5,\n",
    "    \"question\": \"What are the pokemons?\"\n",
    "})\n",
    "\n",
    "final_chain = chef_chain | veg_chain\n",
    "\n",
    "final_chain.invoke({\n",
    "    \"max_itmes\":5,\n",
    "    \"question\": \"What are the pokemons?\"\n",
    "})\n"
   ]
  }
 ],
 "metadata": {
  "kernelspec": {
   "display_name": "env",
   "language": "python",
   "name": "python3"
  },
  "language_info": {
   "codemirror_mode": {
    "name": "ipython",
    "version": 3
   },
   "file_extension": ".py",
   "mimetype": "text/x-python",
   "name": "python",
   "nbconvert_exporter": "python",
   "pygments_lexer": "ipython3",
   "version": "3.11.6"
  }
 },
 "nbformat": 4,
 "nbformat_minor": 2
}
