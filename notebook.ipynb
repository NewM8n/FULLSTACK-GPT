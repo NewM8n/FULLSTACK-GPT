{
 "cells": [
  {
   "cell_type": "code",
   "execution_count": 1,
   "metadata": {},
   "outputs": [
    {
     "ename": "ImportError",
     "evalue": "cannot import name 'FewShotChatMesssagePromptTemplate' from 'langchain.prompts.few_shot' (c:\\Users\\user\\Documents\\GitHub\\FULLSTACK-GPT\\env\\Lib\\site-packages\\langchain\\prompts\\few_shot.py)",
     "output_type": "error",
     "traceback": [
      "\u001b[1;31m---------------------------------------------------------------------------\u001b[0m",
      "\u001b[1;31mImportError\u001b[0m                               Traceback (most recent call last)",
      "Cell \u001b[1;32mIn[1], line 4\u001b[0m\n\u001b[0;32m      2\u001b[0m \u001b[38;5;28;01mfrom\u001b[39;00m \u001b[38;5;21;01mlangchain\u001b[39;00m\u001b[38;5;21;01m.\u001b[39;00m\u001b[38;5;21;01mprompts\u001b[39;00m \u001b[38;5;28;01mimport\u001b[39;00m PromptTemplate, ChatPromptTemplate\n\u001b[0;32m      3\u001b[0m \u001b[38;5;28;01mfrom\u001b[39;00m \u001b[38;5;21;01mlangchain\u001b[39;00m\u001b[38;5;21;01m.\u001b[39;00m\u001b[38;5;21;01mcallbacks\u001b[39;00m \u001b[38;5;28;01mimport\u001b[39;00m StreamingStdOutCallbackHandler\n\u001b[1;32m----> 4\u001b[0m \u001b[38;5;28;01mfrom\u001b[39;00m \u001b[38;5;21;01mlangchain\u001b[39;00m\u001b[38;5;21;01m.\u001b[39;00m\u001b[38;5;21;01mprompts\u001b[39;00m\u001b[38;5;21;01m.\u001b[39;00m\u001b[38;5;21;01mfew_shot\u001b[39;00m \u001b[38;5;28;01mimport\u001b[39;00m FewShotChatMesssagePromptTemplate\n\u001b[0;32m      6\u001b[0m chat\u001b[38;5;241m=\u001b[39m ChatOpenAI(model_name\u001b[38;5;241m=\u001b[39m\u001b[38;5;124m\"\u001b[39m\u001b[38;5;124mgpt-3.5-turbo\u001b[39m\u001b[38;5;124m\"\u001b[39m, temperature\u001b[38;5;241m=\u001b[39m\u001b[38;5;241m0.1\u001b[39m, streaming\u001b[38;5;241m=\u001b[39m\u001b[38;5;28;01mTrue\u001b[39;00m,callbacks\u001b[38;5;241m=\u001b[39m[StreamingStdOutCallbackHandler()])\n\u001b[0;32m      8\u001b[0m poem_prompt \u001b[38;5;241m=\u001b[39m ChatPromptTemplate\u001b[38;5;241m.\u001b[39mfrom_messages([\n\u001b[0;32m      9\u001b[0m     (\u001b[38;5;124m\"\u001b[39m\u001b[38;5;124msystem\u001b[39m\u001b[38;5;124m\"\u001b[39m, \u001b[38;5;124m\"\u001b[39m\u001b[38;5;124mYou are a good poem writer. You create poem about programing language.\u001b[39m\u001b[38;5;124m\"\u001b[39m),\n\u001b[0;32m     10\u001b[0m     (\u001b[38;5;124m\"\u001b[39m\u001b[38;5;124mhuman\u001b[39m\u001b[38;5;124m\"\u001b[39m,\u001b[38;5;124m\"\u001b[39m\u001b[38;5;124mI want to make poem about \u001b[39m\u001b[38;5;132;01m{language}\u001b[39;00m\u001b[38;5;124m.\u001b[39m\u001b[38;5;124m\"\u001b[39m),\n\u001b[0;32m     11\u001b[0m ])\n",
      "\u001b[1;31mImportError\u001b[0m: cannot import name 'FewShotChatMesssagePromptTemplate' from 'langchain.prompts.few_shot' (c:\\Users\\user\\Documents\\GitHub\\FULLSTACK-GPT\\env\\Lib\\site-packages\\langchain\\prompts\\few_shot.py)"
     ]
    }
   ],
   "source": [
    "from langchain.chat_models import ChatOpenAI\n",
    "from langchain.prompts import PromptTemplate, ChatPromptTemplate\n",
    "from langchain.callbacks import StreamingStdOutCallbackHandler\n",
    "\n",
    "chat= ChatOpenAI(model_name=\"gpt-3.5-turbo\", temperature=0.1, streaming=True,callbacks=[StreamingStdOutCallbackHandler()])\n",
    "\n",
    "poem_prompt = ChatPromptTemplate.from_messages([\n",
    "    (\"system\", \"You are a good poem writer. You create poem about programing language.\"),\n",
    "    (\"human\",\"I want to make poem about {language}.\"),\n",
    "])\n",
    "\n",
    "poem_chain = poem_prompt | chat\n",
    "\n"
   ]
  },
  {
   "cell_type": "code",
   "execution_count": 4,
   "metadata": {},
   "outputs": [
    {
     "name": "stdout",
     "output_type": "stream",
     "text": [
      "\n",
      "\n",
      "\u001b[1m> Entering new AgentExecutor chain...\u001b[0m\n",
      "\u001b[32;1m\u001b[1;3m\n",
      "Invoking: `StockMarketSymbolSearchTool` with `{'query': 'Cloudflare stock market symbol'}`\n",
      "\n",
      "\n",
      "\u001b[0m\u001b[36;1m\u001b[1;3mStock analysis for Cloudflare Inc (NET:New York) including stock price, stock chart, company news, key statistics, fundamentals and company profile. Cloudflare Stock Surges on Strong Earnings, Upbeat Outlook—Key Price Level to Watch. Shares in Cloudflare (NET) surged nearly 25% in premarket trading Friday after the cybersecurity and content delivery solutions provider delivered a better-than-expected quarterly report and issued fi... Cloudflare Stock Is Surging. At Cloudflare, Inc., we promise to treat your data with respect and will not share your information with any third party. You can unsubscribe to any of the investor alerts you are subscribed to by visiting the 'unsubscribe' section below. ... End of Day Stock Quote: Sales Enterprise Sales Become a Partner Contact Sales: +1 (888) 99 FLARE ... A high-level overview of Cloudflare, Inc. (NET) stock. Stay up to date on the latest stock price, chart, news, analysis, fundamentals, trading and investment tools. Real-time Cloudflare stock price (NYSE: NET) ... Cloudflare Enters Observability Market with Acquisition to Enhance Serverless Performance. Business Wire Apr 5, 2024 3:33pm.\u001b[0m\u001b[32;1m\u001b[1;3mThe stock market symbol for Cloudflare is NET. Cloudflare's stock surged nearly 25% in premarket trading after delivering a better-than-expected quarterly report and issuing a positive outlook. Cloudflare is a cybersecurity and content delivery solutions provider.\n",
      "\n",
      "To analyze if Cloudflare is a potential good investment, we can look at key factors such as:\n",
      "1. Financial Performance: Review the company's revenue growth, profitability, and cash flow.\n",
      "2. Market Position: Evaluate Cloudflare's competitive position in the cybersecurity and content delivery industry.\n",
      "3. Growth Potential: Assess the company's potential for future growth and expansion.\n",
      "4. Industry Trends: Consider how industry trends and developments may impact Cloudflare's performance.\n",
      "5. Valuation: Analyze Cloudflare's current valuation compared to its peers and historical performance.\n",
      "\n",
      "Would you like to delve deeper into any specific aspect of Cloudflare's stock for a more detailed analysis?\u001b[0m\n",
      "\n",
      "\u001b[1m> Finished chain.\u001b[0m\n"
     ]
    },
    {
     "data": {
      "text/plain": [
       "{'input': \"Give me information on Cloudflare's stock and help me analyze if it's a potential good investment. Also tell me what symbol does the stock have.\",\n",
       " 'output': \"The stock market symbol for Cloudflare is NET. Cloudflare's stock surged nearly 25% in premarket trading after delivering a better-than-expected quarterly report and issuing a positive outlook. Cloudflare is a cybersecurity and content delivery solutions provider.\\n\\nTo analyze if Cloudflare is a potential good investment, we can look at key factors such as:\\n1. Financial Performance: Review the company's revenue growth, profitability, and cash flow.\\n2. Market Position: Evaluate Cloudflare's competitive position in the cybersecurity and content delivery industry.\\n3. Growth Potential: Assess the company's potential for future growth and expansion.\\n4. Industry Trends: Consider how industry trends and developments may impact Cloudflare's performance.\\n5. Valuation: Analyze Cloudflare's current valuation compared to its peers and historical performance.\\n\\nWould you like to delve deeper into any specific aspect of Cloudflare's stock for a more detailed analysis?\"}"
      ]
     },
     "execution_count": 4,
     "metadata": {},
     "output_type": "execute_result"
    },
    {
     "name": "stderr",
     "output_type": "stream",
     "text": [
      "c:\\Users\\user\\Documents\\GitHub\\FULLSTACK-GPT\\env\\Lib\\site-packages\\curl_cffi\\aio.py:205: UserWarning: Curlm alread closed! quitting from process_data\n",
      "  warnings.warn(\"Curlm alread closed! quitting from process_data\")\n"
     ]
    }
   ],
   "source": [
    "from typing import Any, Type\n",
    "from langchain.chat_models import ChatOpenAI\n",
    "from langchain.tools import BaseTool\n",
    "from pydantic import BaseModel, Field\n",
    "from langchain.agents import initialize_agent, AgentType\n",
    "from langchain.utilities import DuckDuckGoSearchAPIWrapper\n",
    "\n",
    "llm = ChatOpenAI(temperature=0.1)\n",
    "\n",
    "class StockMarketSymbolSearchToolArgsSchema(BaseModel):\n",
    "    query: str = Field(description=\"The query you will search for. Example query: Stock Market Symbol for Apple Company.\")\n",
    "    \n",
    "class StockMarketSymbolSearchTool(BaseTool):\n",
    "    name = \"StockMarketSymbolSearchTool\"\n",
    "    description = \"\"\"\n",
    "    Use this tool to find the stock market symbol for a company.\n",
    "    It takes a query as an argument.\n",
    "    \"\"\"\n",
    "\n",
    "    args_schema: Type[StockMarketSymbolSearchToolArgsSchema] = StockMarketSymbolSearchToolArgsSchema\n",
    "\n",
    "    def _run(self, query):\n",
    "        ddg = DuckDuckGoSearchAPIWrapper()\n",
    "        return ddg.run(query)\n",
    "    \n",
    "agent = initialize_agent(\n",
    "    llm=llm,\n",
    "    verbose=True,\n",
    "    agent=AgentType.OPENAI_FUNCTIONS,\n",
    "    handle_parsing_errors=True,\n",
    "    tools=[StockMarketSymbolSearchTool()],\n",
    ")\n",
    "\n",
    "prompt = \"Give me information on Cloudflare's stock and help me analyze if it's a potential good investment. Also tell me what symbol does the stock have.\"\n",
    "\n",
    "agent.invoke(prompt)"
   ]
  },
  {
   "cell_type": "code",
   "execution_count": 16,
   "metadata": {},
   "outputs": [
    {
     "name": "stdout",
     "output_type": "stream",
     "text": [
      "In the land of code, where languages roam,\n",
      "There's one that stands out, like a gemstone.\n",
      "Python, the serpent of simplicity,\n",
      "With syntax so clean, it's a sight to see.\n",
      "\n",
      "Indented blocks, like a dance so neat,\n",
      "Flowing like poetry, so sweet.\n",
      "From data structures to functions grand,\n",
      "Python weaves magic with a gentle hand.\n",
      "\n",
      "With libraries vast, like a treasure trove,\n",
      "Python empowers, with a love so stove.\n",
      "AI, web dev, or data science quest,\n",
      "Python shines brightest, above the rest.\n",
      "\n",
      "So let us raise a toast, to this language divine,\n",
      "Python, the one that makes our code shine.\n",
      "In the world of programming, a true delight,\n",
      "Python, forever burning bright.This poem is an ode to the programming language Python, celebrating its simplicity, elegance, and versatility. The poet describes Python as a standout gemstone in the land of code, emphasizing its clean syntax and ease of use. The poem highlights Python's unique features, such as indented blocks that flow like poetry and its ability to handle data structures and functions with grace.\n",
      "\n",
      "The poet also praises Python's extensive libraries, which are likened to a treasure trove that empowers users in various fields such as AI, web development, and data science. Python is portrayed as a language that shines above the rest, making it a favorite choice for programmers.\n",
      "\n",
      "The poem concludes with a toast to Python as a divine language that brings brightness and delight to the world of programming. Overall, the poem celebrates Python's beauty, power, and enduring appeal in the realm of coding."
     ]
    },
    {
     "data": {
      "text/plain": [
       "AIMessageChunk(content=\"This poem is an ode to the programming language Python, celebrating its simplicity, elegance, and versatility. The poet describes Python as a standout gemstone in the land of code, emphasizing its clean syntax and ease of use. The poem highlights Python's unique features, such as indented blocks that flow like poetry and its ability to handle data structures and functions with grace.\\n\\nThe poet also praises Python's extensive libraries, which are likened to a treasure trove that empowers users in various fields such as AI, web development, and data science. Python is portrayed as a language that shines above the rest, making it a favorite choice for programmers.\\n\\nThe poem concludes with a toast to Python as a divine language that brings brightness and delight to the world of programming. Overall, the poem celebrates Python's beauty, power, and enduring appeal in the realm of coding.\")"
      ]
     },
     "execution_count": 16,
     "metadata": {},
     "output_type": "execute_result"
    }
   ],
   "source": [
    "interpret_prompt = ChatPromptTemplate.from_messages([\n",
    "    (\"system\", \"You are good at interpret a poem.\"),\n",
    "    (\"human\",\"Interpret {poem}\"),\n",
    "])\n",
    "\n",
    "interpret_chain = interpret_prompt | chat\n",
    "\n",
    "final_chain = {\"poem\" : poem_chain} | interpret_chain\n",
    "\n",
    "final_chain.invoke({\n",
    "    \"language\" : \"python\"\n",
    "\n",
    "})\n",
    "\n"
   ]
  },
  {
   "cell_type": "code",
   "execution_count": 2,
   "metadata": {},
   "outputs": [
    {
     "ename": "ValidationError",
     "evalue": "1 validation error for GPT4All\n__root__\n  Failed to retrieve model (type=value_error)",
     "output_type": "error",
     "traceback": [
      "\u001b[1;31m---------------------------------------------------------------------------\u001b[0m",
      "\u001b[1;31mValidationError\u001b[0m                           Traceback (most recent call last)",
      "Cell \u001b[1;32mIn[2], line 6\u001b[0m\n\u001b[0;32m      2\u001b[0m \u001b[38;5;28;01mfrom\u001b[39;00m \u001b[38;5;21;01mlangchain\u001b[39;00m\u001b[38;5;21;01m.\u001b[39;00m\u001b[38;5;21;01mprompts\u001b[39;00m \u001b[38;5;28;01mimport\u001b[39;00m PromptTemplate\n\u001b[0;32m      4\u001b[0m prompt \u001b[38;5;241m=\u001b[39m PromptTemplate\u001b[38;5;241m.\u001b[39mfrom_template(\u001b[38;5;124m\"\u001b[39m\u001b[38;5;124mA \u001b[39m\u001b[38;5;132;01m{word}\u001b[39;00m\u001b[38;5;124m is a\u001b[39m\u001b[38;5;124m\"\u001b[39m)\n\u001b[1;32m----> 6\u001b[0m llm \u001b[38;5;241m=\u001b[39m \u001b[43mGPT4All\u001b[49m\u001b[43m(\u001b[49m\n\u001b[0;32m      7\u001b[0m \u001b[43m    \u001b[49m\u001b[43mmodel\u001b[49m\u001b[38;5;241;43m=\u001b[39;49m\u001b[38;5;124;43m'\u001b[39;49m\u001b[38;5;124;43mgpt4all-falcon-newbpe-q4_0.gguf\u001b[39;49m\u001b[38;5;124;43m'\u001b[39;49m\u001b[43m,\u001b[49m\n\u001b[0;32m      8\u001b[0m \u001b[43m)\u001b[49m\n\u001b[0;32m     10\u001b[0m chain \u001b[38;5;241m=\u001b[39m prompt \u001b[38;5;241m|\u001b[39m llm\n\u001b[0;32m     12\u001b[0m chain\u001b[38;5;241m.\u001b[39minvoke({\n\u001b[0;32m     13\u001b[0m     \u001b[38;5;124m\"\u001b[39m\u001b[38;5;124mword\u001b[39m\u001b[38;5;124m\"\u001b[39m:\u001b[38;5;124m\"\u001b[39m\u001b[38;5;124mtomato\u001b[39m\u001b[38;5;124m\"\u001b[39m\n\u001b[0;32m     14\u001b[0m })\n",
      "File \u001b[1;32mc:\\Users\\user\\Documents\\GitHub\\FULLSTACK-GPT\\env\\Lib\\site-packages\\langchain\\load\\serializable.py:97\u001b[0m, in \u001b[0;36mSerializable.__init__\u001b[1;34m(self, **kwargs)\u001b[0m\n\u001b[0;32m     96\u001b[0m \u001b[38;5;28;01mdef\u001b[39;00m \u001b[38;5;21m__init__\u001b[39m(\u001b[38;5;28mself\u001b[39m, \u001b[38;5;241m*\u001b[39m\u001b[38;5;241m*\u001b[39mkwargs: Any) \u001b[38;5;241m-\u001b[39m\u001b[38;5;241m>\u001b[39m \u001b[38;5;28;01mNone\u001b[39;00m:\n\u001b[1;32m---> 97\u001b[0m     \u001b[38;5;28;43msuper\u001b[39;49m\u001b[43m(\u001b[49m\u001b[43m)\u001b[49m\u001b[38;5;241;43m.\u001b[39;49m\u001b[38;5;21;43m__init__\u001b[39;49m\u001b[43m(\u001b[49m\u001b[38;5;241;43m*\u001b[39;49m\u001b[38;5;241;43m*\u001b[39;49m\u001b[43mkwargs\u001b[49m\u001b[43m)\u001b[49m\n\u001b[0;32m     98\u001b[0m     \u001b[38;5;28mself\u001b[39m\u001b[38;5;241m.\u001b[39m_lc_kwargs \u001b[38;5;241m=\u001b[39m kwargs\n",
      "File \u001b[1;32mc:\\Users\\user\\Documents\\GitHub\\FULLSTACK-GPT\\env\\Lib\\site-packages\\pydantic\\main.py:341\u001b[0m, in \u001b[0;36mpydantic.main.BaseModel.__init__\u001b[1;34m()\u001b[0m\n",
      "\u001b[1;31mValidationError\u001b[0m: 1 validation error for GPT4All\n__root__\n  Failed to retrieve model (type=value_error)"
     ]
    }
   ],
   "source": [
    "from langchain.llms import GPT4All\n",
    "from langchain.prompts import PromptTemplate\n",
    "\n",
    "prompt = PromptTemplate.from_template(\"A {word} is a\")\n",
    "\n",
    "llm = GPT4All(\n",
    "    model='gpt4all-falcon-newbpe-q4_0.gguf',\n",
    ")\n",
    "\n",
    "chain = prompt | llm\n",
    "\n",
    "chain.invoke({\n",
    "    \"word\":\"tomato\"\n",
    "})"
   ]
  }
 ],
 "metadata": {
  "kernelspec": {
   "display_name": "env",
   "language": "python",
   "name": "python3"
  },
  "language_info": {
   "codemirror_mode": {
    "name": "ipython",
    "version": 3
   },
   "file_extension": ".py",
   "mimetype": "text/x-python",
   "name": "python",
   "nbconvert_exporter": "python",
   "pygments_lexer": "ipython3",
   "version": "3.11.6"
  }
 },
 "nbformat": 4,
 "nbformat_minor": 2
}
